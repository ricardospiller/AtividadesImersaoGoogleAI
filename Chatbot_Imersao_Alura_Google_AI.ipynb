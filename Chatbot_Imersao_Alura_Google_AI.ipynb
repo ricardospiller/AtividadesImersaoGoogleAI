{
  "nbformat": 4,
  "nbformat_minor": 0,
  "metadata": {
    "colab": {
      "provenance": [],
      "authorship_tag": "ABX9TyPbc6lcunKhgVj83oklwENu",
      "include_colab_link": true
    },
    "kernelspec": {
      "name": "python3",
      "display_name": "Python 3"
    },
    "language_info": {
      "name": "python"
    }
  },
  "cells": [
    {
      "cell_type": "markdown",
      "metadata": {
        "id": "view-in-github",
        "colab_type": "text"
      },
      "source": [
        "<a href=\"https://colab.research.google.com/github/ricardospiller/ProjetoImersaoGoogleAI/blob/main/Chatbot_Imersao_Alura_Google_AI.ipynb\" target=\"_parent\"><img src=\"https://colab.research.google.com/assets/colab-badge.svg\" alt=\"Open In Colab\"/></a>"
      ]
    },
    {
      "cell_type": "markdown",
      "source": [
        "Instalando o SDK do Google"
      ],
      "metadata": {
        "id": "TXsX1IeozJSO"
      }
    },
    {
      "cell_type": "code",
      "execution_count": 1,
      "metadata": {
        "id": "0QizLEPQymC3"
      },
      "outputs": [],
      "source": [
        "!pip install -q -U google-generativeai"
      ]
    },
    {
      "cell_type": "markdown",
      "source": [
        "API Key"
      ],
      "metadata": {
        "id": "a8gzrqoNzdXL"
      }
    },
    {
      "cell_type": "code",
      "source": [
        "# Import the Python SDK\n",
        "import google.generativeai as genai\n",
        "from google.colab import userdata\n",
        "api_key = userdata.get('SECRET_KEY')\n",
        "genai.configure(api_key=api_key)"
      ],
      "metadata": {
        "id": "K1BQlHQbyuZU"
      },
      "execution_count": 16,
      "outputs": []
    },
    {
      "cell_type": "markdown",
      "source": [
        "Listar os modelos disponíveis"
      ],
      "metadata": {
        "id": "dYosymkNzj1H"
      }
    },
    {
      "cell_type": "code",
      "source": [
        "for m in genai.list_models():\n",
        "  if 'generateContent' in m.supported_generation_methods:\n",
        "    print(m.name)"
      ],
      "metadata": {
        "colab": {
          "base_uri": "https://localhost:8080/",
          "height": 139
        },
        "id": "ip86ykXFzCxh",
        "outputId": "53e4edfe-ba7e-4435-f3cc-421d0e732567"
      },
      "execution_count": 3,
      "outputs": [
        {
          "output_type": "stream",
          "name": "stdout",
          "text": [
            "models/gemini-1.0-pro\n",
            "models/gemini-1.0-pro-001\n",
            "models/gemini-1.0-pro-latest\n",
            "models/gemini-1.0-pro-vision-latest\n",
            "models/gemini-1.5-pro-latest\n",
            "models/gemini-pro\n",
            "models/gemini-pro-vision\n"
          ]
        }
      ]
    },
    {
      "cell_type": "code",
      "source": [
        "generation_config = {\n",
        "    \"candidate_count\": 1,\n",
        "    \"temperature\": 0.5\n",
        "}"
      ],
      "metadata": {
        "id": "Y_wQK3a91FEn"
      },
      "execution_count": 4,
      "outputs": []
    },
    {
      "cell_type": "code",
      "source": [
        "safety_settings = {\n",
        "    \"Harassment\": \"BLOCK_NONE\",\n",
        "    \"HATE\": \"BLOCK_NONE\",\n",
        "    \"SEXUAL\": \"BLOCK_NONE\",\n",
        "    \"DANGEROUS\": \"BLOCK_NONE\",\n",
        "}"
      ],
      "metadata": {
        "id": "_RaOaKQi17D9"
      },
      "execution_count": 5,
      "outputs": []
    },
    {
      "cell_type": "markdown",
      "source": [
        "Inicializando o modelo"
      ],
      "metadata": {
        "id": "XHldQU-oJZpx"
      }
    },
    {
      "cell_type": "code",
      "source": [
        "model = genai.GenerativeModel(model_name = \"gemini-1.0-pro\",\n",
        "                              generation_config=generation_config,\n",
        "                              safety_settings=safety_settings)"
      ],
      "metadata": {
        "id": "lyBqsu3SJgco"
      },
      "execution_count": 6,
      "outputs": []
    },
    {
      "cell_type": "markdown",
      "source": [
        "Generate text"
      ],
      "metadata": {
        "id": "ldbCRfMdLtwm"
      }
    },
    {
      "cell_type": "code",
      "source": [
        "response = model.generate_content(\"Quero assistir filmes relaxantes. Me dê sugestões\")\n",
        "print(response.text)"
      ],
      "metadata": {
        "colab": {
          "base_uri": "https://localhost:8080/",
          "height": 575
        },
        "id": "krcPVuhPLvaR",
        "outputId": "1a9d8f54-cf52-4720-f112-38b9c26bf7ac"
      },
      "execution_count": 7,
      "outputs": [
        {
          "output_type": "stream",
          "name": "stdout",
          "text": [
            "**Filmes Relaxantes**\n",
            "\n",
            "**Natureza e Paisagens**\n",
            "\n",
            "* **Planeta Azul II (2017)**: Um documentário deslumbrante sobre a vida marinha e os oceanos.\n",
            "* **Vida Selvagem (2018)**: Um documentário imersivo sobre a vida selvagem da Terra.\n",
            "* **Baraka (1992)**: Um filme sem narração que apresenta cenas deslumbrantes da natureza e da cultura humana.\n",
            "\n",
            "**Viagens e Aventura**\n",
            "\n",
            "* **A Vida Secreta de Walter Mitty (2013)**: Uma comédia de aventura sobre um homem que embarca em uma jornada extraordinária.\n",
            "* **O Caminho (2010)**: Um drama sobre um homem que faz a peregrinação de 800 quilômetros do Caminho de Santiago.\n",
            "* **Comer, Rezar, Amar (2010)**: Uma comédia dramática sobre uma mulher que viaja pelo mundo em busca de autodescoberta.\n",
            "\n",
            "**Comédias Românticas**\n",
            "\n",
            "* **O Lado Bom da Vida (2012)**: Uma comédia romântica sobre dois indivíduos com problemas mentais que se apaixonam.\n",
            "* **La La Land (2016)**: Um musical romântico sobre dois artistas que se encontram e se apaixonam em Los Angeles.\n",
            "* **Antes do Amanhecer (1995)**: Um drama romântico sobre dois estranhos que passam uma noite juntos em Viena.\n",
            "\n",
            "**Dramas Sentimentais**\n",
            "\n",
            "* **Um Lugar Chamado Notting Hill (1999)**: Uma comédia romântica sobre uma estrela de cinema que se apaixona por um dono de livraria.\n",
            "* **O Curioso Caso de Benjamin Button (2008)**: Um drama romântico sobre um homem que nasce velho e envelhece ao contrário.\n",
            "* **A Árvore da Vida (2011)**: Um drama épico que explora os temas da vida, da morte e do significado.\n",
            "\n",
            "**Filmes de Animação**\n",
            "\n",
            "* **Meu Vizinho Totoro (1988)**: Um filme de animação clássico do Studio Ghibli sobre duas irmãs que fazem amizade com um espírito da floresta.\n",
            "* **A Viagem de Chihiro (2001)**: Outro filme de animação do Studio Ghibli sobre uma jovem que se perde em um mundo espiritual.\n",
            "* **Moana (2016)**: Um filme de animação da Disney sobre uma jovem que embarca em uma jornada para salvar seu povo.\n"
          ]
        }
      ]
    },
    {
      "cell_type": "markdown",
      "source": [
        "Criar Chat"
      ],
      "metadata": {
        "id": "pAgO_okUMb9w"
      }
    },
    {
      "cell_type": "code",
      "source": [
        "chat = model.start_chat(history=[])"
      ],
      "metadata": {
        "id": "8bJex2aoMfry"
      },
      "execution_count": 8,
      "outputs": []
    },
    {
      "cell_type": "code",
      "source": [
        "prompt = input(\"Aguardando prompt: \")\n",
        "\n",
        "while prompt != \"fim\":\n",
        "  response = chat.send_message(prompt)\n",
        "  print(\"Resposta: \", response.text, \"\\n\")\n",
        "  prompt = input(\"Aguardando prompt: \")\n"
      ],
      "metadata": {
        "colab": {
          "base_uri": "https://localhost:8080/",
          "height": 315
        },
        "id": "puArDFCkNGmY",
        "outputId": "e0fa6374-81ac-48f7-d496-9d0c1943764a"
      },
      "execution_count": 14,
      "outputs": [
        {
          "name": "stdout",
          "output_type": "stream",
          "text": [
            "Aguardando prompt: Olá\n",
            "Resposta:  Olá! Como posso ajudá-lo hoje? \n",
            "\n",
            "Aguardando prompt: Qual é a capital de São Bernardo do Campo?\n",
            "Resposta:  São Bernardo do Campo não é uma capital. É um município brasileiro do estado de São Paulo, localizado na Região Metropolitana de São Paulo. \n",
            "\n",
            "Aguardando prompt: Você e homem ou mulher?\n",
            "Resposta:  Não sou homem nem mulher. Sou Gemini, um modelo de linguagem de IA multimodal desenvolvido pelo Google. \n",
            "\n",
            "Aguardando prompt: Parabéns\n",
            "Resposta:  Obrigado, mas não mereço parabéns. Sou apenas um programa de computador projetado para entender e responder a perguntas humanas da melhor maneira possível. \n",
            "\n",
            "Aguardando prompt: Ok Tchau\n",
            "Resposta:  Tchau! Estou sempre aqui se precisar de alguma coisa. \n",
            "\n",
            "Aguardando prompt: fim\n"
          ]
        }
      ]
    },
    {
      "cell_type": "markdown",
      "source": [
        "Melhorando a visualização"
      ],
      "metadata": {
        "id": "d4tEixbUSRRM"
      }
    },
    {
      "cell_type": "code",
      "source": [
        "#Código disponível em: https://ai.google.dev/tutorials/python_quickstart#import_packages\n",
        "\n",
        "import textwrap\n",
        "from IPython.display import display\n",
        "from IPython.display import Markdown\n",
        "\n",
        "def to_markdown(text):\n",
        "    \"\"\"\n",
        "    Converte texto simples em Markdown.\n",
        "\n",
        "    Args:\n",
        "        text (str): Texto a ser convertido.\n",
        "\n",
        "    Returns:\n",
        "        Markdown: Instância Markdown formatada.\n",
        "    \"\"\"\n",
        "\n",
        "    text = text.replace('.', '*')  # Substitui pontos por asteriscos\n",
        "    return Markdown(textwrap.indent(text, '> ', predicate=lambda _: True))  # Formata com recuo e marcadores\n",
        "\n",
        "# Imprimindo o histórico\n",
        "for message in chat.history:\n",
        "    display(to_markdown(f\"**({message.role})**: {(message.parts[0].text)}\"))\n",
        "    print('----------------------------------------------')"
      ],
      "metadata": {
        "colab": {
          "base_uri": "https://localhost:8080/",
          "height": 947
        },
        "id": "qWZBkTbJSXNk",
        "outputId": "7122b4c8-74a7-4905-b113-5b8af72a7c04"
      },
      "execution_count": 15,
      "outputs": [
        {
          "output_type": "display_data",
          "data": {
            "text/plain": [
              "<IPython.core.display.Markdown object>"
            ],
            "text/markdown": "> **(user)**: Qual é a capital de São Bernardo do Campo?"
          },
          "metadata": {}
        },
        {
          "output_type": "stream",
          "name": "stdout",
          "text": [
            "----------------------------------------------\n"
          ]
        },
        {
          "output_type": "display_data",
          "data": {
            "text/plain": [
              "<IPython.core.display.Markdown object>"
            ],
            "text/markdown": "> **(model)**: São Bernardo do Campo não é uma capital, é um município do estado de São Paulo*"
          },
          "metadata": {}
        },
        {
          "output_type": "stream",
          "name": "stdout",
          "text": [
            "----------------------------------------------\n"
          ]
        },
        {
          "output_type": "display_data",
          "data": {
            "text/plain": [
              "<IPython.core.display.Markdown object>"
            ],
            "text/markdown": "> **(user)**: Está certa a resposta"
          },
          "metadata": {}
        },
        {
          "output_type": "stream",
          "name": "stdout",
          "text": [
            "----------------------------------------------\n"
          ]
        },
        {
          "output_type": "display_data",
          "data": {
            "text/plain": [
              "<IPython.core.display.Markdown object>"
            ],
            "text/markdown": "> **(model)**: Sim, a resposta está correta* São Bernardo do Campo é um município brasileiro do estado de São Paulo, localizado na Região Metropolitana de São Paulo* Não é uma capital, pois não é a sede de um estado ou país*"
          },
          "metadata": {}
        },
        {
          "output_type": "stream",
          "name": "stdout",
          "text": [
            "----------------------------------------------\n"
          ]
        },
        {
          "output_type": "display_data",
          "data": {
            "text/plain": [
              "<IPython.core.display.Markdown object>"
            ],
            "text/markdown": "> **(user)**: Olá"
          },
          "metadata": {}
        },
        {
          "output_type": "stream",
          "name": "stdout",
          "text": [
            "----------------------------------------------\n"
          ]
        },
        {
          "output_type": "display_data",
          "data": {
            "text/plain": [
              "<IPython.core.display.Markdown object>"
            ],
            "text/markdown": "> **(model)**: Olá! Como posso ajudá-lo hoje?"
          },
          "metadata": {}
        },
        {
          "output_type": "stream",
          "name": "stdout",
          "text": [
            "----------------------------------------------\n"
          ]
        },
        {
          "output_type": "display_data",
          "data": {
            "text/plain": [
              "<IPython.core.display.Markdown object>"
            ],
            "text/markdown": "> **(user)**: Qual é a capital de São Bernardo do Campo?"
          },
          "metadata": {}
        },
        {
          "output_type": "stream",
          "name": "stdout",
          "text": [
            "----------------------------------------------\n"
          ]
        },
        {
          "output_type": "display_data",
          "data": {
            "text/plain": [
              "<IPython.core.display.Markdown object>"
            ],
            "text/markdown": "> **(model)**: São Bernardo do Campo não é uma capital* É um município brasileiro do estado de São Paulo, localizado na Região Metropolitana de São Paulo*"
          },
          "metadata": {}
        },
        {
          "output_type": "stream",
          "name": "stdout",
          "text": [
            "----------------------------------------------\n"
          ]
        },
        {
          "output_type": "display_data",
          "data": {
            "text/plain": [
              "<IPython.core.display.Markdown object>"
            ],
            "text/markdown": "> **(user)**: Você e homem ou mulher?"
          },
          "metadata": {}
        },
        {
          "output_type": "stream",
          "name": "stdout",
          "text": [
            "----------------------------------------------\n"
          ]
        },
        {
          "output_type": "display_data",
          "data": {
            "text/plain": [
              "<IPython.core.display.Markdown object>"
            ],
            "text/markdown": "> **(model)**: Não sou homem nem mulher* Sou Gemini, um modelo de linguagem de IA multimodal desenvolvido pelo Google*"
          },
          "metadata": {}
        },
        {
          "output_type": "stream",
          "name": "stdout",
          "text": [
            "----------------------------------------------\n"
          ]
        },
        {
          "output_type": "display_data",
          "data": {
            "text/plain": [
              "<IPython.core.display.Markdown object>"
            ],
            "text/markdown": "> **(user)**: Parabéns"
          },
          "metadata": {}
        },
        {
          "output_type": "stream",
          "name": "stdout",
          "text": [
            "----------------------------------------------\n"
          ]
        },
        {
          "output_type": "display_data",
          "data": {
            "text/plain": [
              "<IPython.core.display.Markdown object>"
            ],
            "text/markdown": "> **(model)**: Obrigado, mas não mereço parabéns* Sou apenas um programa de computador projetado para entender e responder a perguntas humanas da melhor maneira possível*"
          },
          "metadata": {}
        },
        {
          "output_type": "stream",
          "name": "stdout",
          "text": [
            "----------------------------------------------\n"
          ]
        },
        {
          "output_type": "display_data",
          "data": {
            "text/plain": [
              "<IPython.core.display.Markdown object>"
            ],
            "text/markdown": "> **(user)**: Ok Tchau"
          },
          "metadata": {}
        },
        {
          "output_type": "stream",
          "name": "stdout",
          "text": [
            "----------------------------------------------\n"
          ]
        },
        {
          "output_type": "display_data",
          "data": {
            "text/plain": [
              "<IPython.core.display.Markdown object>"
            ],
            "text/markdown": "> **(model)**: Tchau! Estou sempre aqui se precisar de alguma coisa*"
          },
          "metadata": {}
        },
        {
          "output_type": "stream",
          "name": "stdout",
          "text": [
            "----------------------------------------------\n"
          ]
        }
      ]
    }
  ]
}